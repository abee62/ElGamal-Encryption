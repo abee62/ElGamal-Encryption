{
  "nbformat": 4,
  "nbformat_minor": 0,
  "metadata": {
    "colab": {
      "name": "PA_5.ipynb",
      "provenance": []
    },
    "kernelspec": {
      "name": "python3",
      "display_name": "Python 3"
    },
    "language_info": {
      "name": "python"
    }
  },
  "cells": [
    {
      "cell_type": "markdown",
      "source": [
        "# Implementing El Gamal Encryption Algorithm"
      ],
      "metadata": {
        "id": "D2SLtTmbWuHn"
      }
    },
    {
      "cell_type": "code",
      "execution_count": null,
      "metadata": {
        "id": "G4l6Ew6AWRsp"
      },
      "outputs": [],
      "source": [
        "import random\n",
        "from math import pow"
      ]
    },
    {
      "cell_type": "code",
      "source": [
        "a = random.randint(2, 10)\n",
        "\n",
        "def gcd(a, b):\n",
        "    if a < b:\n",
        "        return gcd(b, a)\n",
        "    elif a % b == 0:\n",
        "        return b;\n",
        "    else:\n",
        "        return gcd(b, a % b)\n"
      ],
      "metadata": {
        "id": "VipR1fR_WgDT"
      },
      "execution_count": null,
      "outputs": []
    },
    {
      "cell_type": "markdown",
      "source": [
        "Generating large random numbers"
      ],
      "metadata": {
        "id": "3OTkVa8JXRLp"
      }
    },
    {
      "cell_type": "code",
      "source": [
        "def gen_key(q):\n",
        " \n",
        "    key = random.randint(pow(10, 20), q)\n",
        "    while gcd(q, key) != 1:\n",
        "        key = random.randint(pow(10, 20), q)\n",
        " \n",
        "    return key"
      ],
      "metadata": {
        "id": "YmciQVpdXNUH"
      },
      "execution_count": null,
      "outputs": []
    },
    {
      "cell_type": "markdown",
      "source": [
        "Modular Exponentiation"
      ],
      "metadata": {
        "id": "h--FN6_5Xaa_"
      }
    },
    {
      "cell_type": "code",
      "source": [
        "def power(a, b, c):\n",
        "    x = 1\n",
        "    y = a\n",
        " \n",
        "    while b > 0:\n",
        "        if b % 2 != 0:\n",
        "            x = (x * y) % c;\n",
        "        y = (y * y) % c\n",
        "        b = int(b / 2)\n",
        " \n",
        "    return x % c"
      ],
      "metadata": {
        "id": "3-EuHDmkXXqh"
      },
      "execution_count": null,
      "outputs": []
    },
    {
      "cell_type": "markdown",
      "source": [
        "Assymetric Encryption"
      ],
      "metadata": {
        "id": "rVcI01GhXh_3"
      }
    },
    {
      "cell_type": "code",
      "source": [
        "def encrypt(msg, q, h, g):\n",
        " \n",
        "    en_msg = []\n",
        " \n",
        "    k = gen_key(q)# Private key for sender\n",
        "    s = power(h, k, q)\n",
        "    p = power(g, k, q)\n",
        "     \n",
        "    for i in range(0, len(msg)):\n",
        "        en_msg.append(msg[i])\n",
        " \n",
        "    print(\"g^k used : \", p)\n",
        "    print(\"g^ak used : \", s)\n",
        "    for i in range(0, len(en_msg)):\n",
        "        en_msg[i] = s * ord(en_msg[i])\n",
        " \n",
        "    return en_msg, p"
      ],
      "metadata": {
        "id": "6xHviuo4XgKw"
      },
      "execution_count": null,
      "outputs": []
    },
    {
      "cell_type": "markdown",
      "source": [
        "Decryption"
      ],
      "metadata": {
        "id": "zE1O7BK7XpOp"
      }
    },
    {
      "cell_type": "code",
      "source": [
        "def decrypt(en_msg, p, key, q):\n",
        " \n",
        "    dr_msg = []\n",
        "    h = power(p, key, q)\n",
        "    for i in range(0, len(en_msg)):\n",
        "        dr_msg.append(chr(int(en_msg[i]/h)))\n",
        "         \n",
        "    return dr_msg"
      ],
      "metadata": {
        "id": "VnCQ70xLXoXg"
      },
      "execution_count": null,
      "outputs": []
    },
    {
      "cell_type": "markdown",
      "source": [
        "Driver code"
      ],
      "metadata": {
        "id": "HXc5-oEKXzEf"
      }
    },
    {
      "cell_type": "code",
      "source": [
        "def main():\n",
        " \n",
        "    msg = 'My cat ate my homework'\n",
        "    print(\"Original Message :\", msg)\n",
        " \n",
        "    q = random.randint(pow(10, 20), pow(10, 50))\n",
        "    g = random.randint(2, q)\n",
        " \n",
        "    key = gen_key(q)# Private key for receiver\n",
        "    h = power(g, key, q)\n",
        "    print(\"g used : \", g)\n",
        "    print(\"g^a used : \", h)\n",
        " \n",
        "    en_msg, p = encrypt(msg, q, h, g)\n",
        "    dr_msg = decrypt(en_msg, p, key, q)\n",
        "    dmsg = ''.join(dr_msg)\n",
        "    print(\"Decrypted Message :\", dmsg);\n",
        "\n",
        "if __name__ == '__main__':\n",
        "    main()"
      ],
      "metadata": {
        "colab": {
          "base_uri": "https://localhost:8080/"
        },
        "id": "yQDm30EzXtkh",
        "outputId": "0874913a-9207-4d1c-8cde-7a851c26a207"
      },
      "execution_count": null,
      "outputs": [
        {
          "output_type": "stream",
          "name": "stdout",
          "text": [
            "Original Message : My cat ate my homework\n",
            "g used :  4792597783011708084984860149075996854742012175722\n",
            "g^a used :  3117251492909353679500367167852025653775832421372\n",
            "g^k used :  5624256796332347496980540524599071455691444109277\n",
            "g^ak used :  4214396355962905301570167799863419154340881719532\n",
            "Decrypted Message : My cat ate my homework\n"
          ]
        }
      ]
    },
    {
      "cell_type": "code",
      "source": [
        ""
      ],
      "metadata": {
        "id": "qcVoDnmfYDyL"
      },
      "execution_count": null,
      "outputs": []
    }
  ]
}